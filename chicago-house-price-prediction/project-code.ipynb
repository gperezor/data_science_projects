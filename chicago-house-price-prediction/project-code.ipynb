{
 "cells": [
  {
   "cell_type": "markdown",
   "metadata": {},
   "source": [
    "## Chicago Housing Prices Dataset\n",
    "\n",
    "What is the price of 1342 N Leavitt Street? It's located in Wicker Park, a single-family home with two baths. The home is a 10-minute drive from the loop at 3.96 miles to Lake Michigan. The local crime index is 3.76 and the local school index is 16.7. The house is 116 years old. The lot size is 3,049 sqft and the house size is 3,154 sqft.\n"
   ]
  },
  {
   "cell_type": "code",
   "execution_count": 29,
   "metadata": {
    "collapsed": false
   },
   "outputs": [],
   "source": [
    "import pandas as pd\n",
    "from sklearn import cross_validation\n",
    "# import K-Nearest-Neighbor classifier\n",
    "from sklearn.neighbors import KNeighborsClassifier\n",
    "import warnings\n",
    "warnings.filterwarnings('ignore')\n",
    "\n",
    "# show plots inline\n",
    "%matplotlib inline\n",
    "import matplotlib.pyplot as plt\n",
    "plt.rcParams['figure.figsize'] = (7, 3)\n",
    "plt.rcParams['font.size'] = 12\n",
    "from matplotlib.colors import ListedColormap\n",
    "cmap_bold = ListedColormap(['#FF0000', '#00FF00', '#0000FF'])"
   ]
  },
  {
   "cell_type": "code",
   "execution_count": 54,
   "metadata": {
    "collapsed": false
   },
   "outputs": [
    {
     "name": "stdout",
     "output_type": "stream",
     "text": [
      "('Dimensions of the data:', (219, 12))\n"
     ]
    }
   ],
   "source": [
    "house = pd.read_csv('hw2-chicago.csv')\n",
    "print('Dimensions of the data:', house.shape)"
   ]
  },
  {
   "cell_type": "code",
   "execution_count": 55,
   "metadata": {
    "collapsed": false
   },
   "outputs": [
    {
     "data": {
      "text/html": [
       "<div>\n",
       "<table border=\"1\" class=\"dataframe\">\n",
       "  <thead>\n",
       "    <tr style=\"text-align: right;\">\n",
       "      <th></th>\n",
       "      <th>Address</th>\n",
       "      <th>Neighborhood</th>\n",
       "      <th>HouseType</th>\n",
       "      <th>Price</th>\n",
       "      <th>Bath</th>\n",
       "      <th>CrimeIndex</th>\n",
       "      <th>MinutesToLoop</th>\n",
       "      <th>MilesToLake</th>\n",
       "      <th>Age</th>\n",
       "      <th>LotSizeSqft</th>\n",
       "      <th>HouseSizeSqft</th>\n",
       "      <th>SchoolIndex</th>\n",
       "    </tr>\n",
       "  </thead>\n",
       "  <tbody>\n",
       "    <tr>\n",
       "      <th>0</th>\n",
       "      <td>2111 W Division St #5, Chicago IL</td>\n",
       "      <td>Wicker Park</td>\n",
       "      <td>Condo</td>\n",
       "      <td>390000</td>\n",
       "      <td>NaN</td>\n",
       "      <td>2.59</td>\n",
       "      <td>9</td>\n",
       "      <td>3.91</td>\n",
       "      <td>0</td>\n",
       "      <td>0</td>\n",
       "      <td>0</td>\n",
       "      <td>36.2</td>\n",
       "    </tr>\n",
       "    <tr>\n",
       "      <th>1</th>\n",
       "      <td>1520 W Walton St #2, Chicago IL</td>\n",
       "      <td>Wicker Park</td>\n",
       "      <td>Condo</td>\n",
       "      <td>320500</td>\n",
       "      <td>NaN</td>\n",
       "      <td>4.10</td>\n",
       "      <td>7</td>\n",
       "      <td>3.02</td>\n",
       "      <td>0</td>\n",
       "      <td>0</td>\n",
       "      <td>0</td>\n",
       "      <td>91.7</td>\n",
       "    </tr>\n",
       "    <tr>\n",
       "      <th>2</th>\n",
       "      <td>2047 W Thomas St, Chicago IL</td>\n",
       "      <td>Wicker Park</td>\n",
       "      <td>Multi-Family Home</td>\n",
       "      <td>620000</td>\n",
       "      <td>4.0</td>\n",
       "      <td>2.09</td>\n",
       "      <td>9</td>\n",
       "      <td>3.84</td>\n",
       "      <td>94</td>\n",
       "      <td>3049</td>\n",
       "      <td>3492</td>\n",
       "      <td>36.2</td>\n",
       "    </tr>\n",
       "    <tr>\n",
       "      <th>3</th>\n",
       "      <td>1735 N Paulina St #314, Chicago IL</td>\n",
       "      <td>Wicker Park</td>\n",
       "      <td>Condo</td>\n",
       "      <td>318000</td>\n",
       "      <td>NaN</td>\n",
       "      <td>2.40</td>\n",
       "      <td>9</td>\n",
       "      <td>2.90</td>\n",
       "      <td>0</td>\n",
       "      <td>0</td>\n",
       "      <td>0</td>\n",
       "      <td>50.0</td>\n",
       "    </tr>\n",
       "    <tr>\n",
       "      <th>4</th>\n",
       "      <td>1634 W Beach Ave, Chicago IL</td>\n",
       "      <td>Wicker Park</td>\n",
       "      <td>Multi-Family Home</td>\n",
       "      <td>477000</td>\n",
       "      <td>2.0</td>\n",
       "      <td>4.63</td>\n",
       "      <td>9</td>\n",
       "      <td>2.96</td>\n",
       "      <td>31</td>\n",
       "      <td>2614</td>\n",
       "      <td>1840</td>\n",
       "      <td>78.9</td>\n",
       "    </tr>\n",
       "  </tbody>\n",
       "</table>\n",
       "</div>"
      ],
      "text/plain": [
       "                              Address Neighborhood          HouseType   Price  \\\n",
       "0   2111 W Division St #5, Chicago IL  Wicker Park              Condo  390000   \n",
       "1     1520 W Walton St #2, Chicago IL  Wicker Park              Condo  320500   \n",
       "2        2047 W Thomas St, Chicago IL  Wicker Park  Multi-Family Home  620000   \n",
       "3  1735 N Paulina St #314, Chicago IL  Wicker Park              Condo  318000   \n",
       "4        1634 W Beach Ave, Chicago IL  Wicker Park  Multi-Family Home  477000   \n",
       "\n",
       "   Bath  CrimeIndex  MinutesToLoop  MilesToLake  Age  LotSizeSqft  \\\n",
       "0   NaN        2.59              9         3.91    0            0   \n",
       "1   NaN        4.10              7         3.02    0            0   \n",
       "2   4.0        2.09              9         3.84   94         3049   \n",
       "3   NaN        2.40              9         2.90    0            0   \n",
       "4   2.0        4.63              9         2.96   31         2614   \n",
       "\n",
       "   HouseSizeSqft  SchoolIndex  \n",
       "0              0         36.2  \n",
       "1              0         91.7  \n",
       "2           3492         36.2  \n",
       "3              0         50.0  \n",
       "4           1840         78.9  "
      ]
     },
     "execution_count": 55,
     "metadata": {},
     "output_type": "execute_result"
    }
   ],
   "source": [
    "house.head()"
   ]
  },
  {
   "cell_type": "code",
   "execution_count": 56,
   "metadata": {
    "collapsed": false
   },
   "outputs": [
    {
     "name": "stdout",
     "output_type": "stream",
     "text": [
      "<class 'pandas.core.frame.DataFrame'>\n",
      "RangeIndex: 219 entries, 0 to 218\n",
      "Data columns (total 12 columns):\n",
      "Address          219 non-null object\n",
      "Neighborhood     219 non-null object\n",
      "HouseType        216 non-null object\n",
      "Price            219 non-null int64\n",
      "Bath             70 non-null float64\n",
      "CrimeIndex       219 non-null float64\n",
      "MinutesToLoop    219 non-null int64\n",
      "MilesToLake      219 non-null float64\n",
      "Age              219 non-null int64\n",
      "LotSizeSqft      219 non-null int64\n",
      "HouseSizeSqft    219 non-null int64\n",
      "SchoolIndex      219 non-null float64\n",
      "dtypes: float64(4), int64(5), object(3)\n",
      "memory usage: 20.6+ KB\n"
     ]
    }
   ],
   "source": [
    "house.info()"
   ]
  },
  {
   "cell_type": "code",
   "execution_count": 57,
   "metadata": {
    "collapsed": true
   },
   "outputs": [],
   "source": [
    "house['Leavitt'] = \"\""
   ]
  },
  {
   "cell_type": "code",
   "execution_count": 58,
   "metadata": {
    "collapsed": false,
    "scrolled": true
   },
   "outputs": [
    {
     "data": {
      "text/html": [
       "<div>\n",
       "<table border=\"1\" class=\"dataframe\">\n",
       "  <thead>\n",
       "    <tr style=\"text-align: right;\">\n",
       "      <th></th>\n",
       "      <th>Address</th>\n",
       "      <th>Neighborhood</th>\n",
       "      <th>HouseType</th>\n",
       "      <th>Price</th>\n",
       "      <th>Bath</th>\n",
       "      <th>CrimeIndex</th>\n",
       "      <th>MinutesToLoop</th>\n",
       "      <th>MilesToLake</th>\n",
       "      <th>Age</th>\n",
       "      <th>LotSizeSqft</th>\n",
       "      <th>HouseSizeSqft</th>\n",
       "      <th>SchoolIndex</th>\n",
       "      <th>Leavitt</th>\n",
       "    </tr>\n",
       "  </thead>\n",
       "  <tbody>\n",
       "    <tr>\n",
       "      <th>0</th>\n",
       "      <td>2111 W Division St #5, Chicago IL</td>\n",
       "      <td>Wicker Park</td>\n",
       "      <td>Condo</td>\n",
       "      <td>390000</td>\n",
       "      <td>NaN</td>\n",
       "      <td>2.59</td>\n",
       "      <td>9</td>\n",
       "      <td>3.91</td>\n",
       "      <td>0</td>\n",
       "      <td>0</td>\n",
       "      <td>0</td>\n",
       "      <td>36.2</td>\n",
       "      <td></td>\n",
       "    </tr>\n",
       "    <tr>\n",
       "      <th>1</th>\n",
       "      <td>1520 W Walton St #2, Chicago IL</td>\n",
       "      <td>Wicker Park</td>\n",
       "      <td>Condo</td>\n",
       "      <td>320500</td>\n",
       "      <td>NaN</td>\n",
       "      <td>4.10</td>\n",
       "      <td>7</td>\n",
       "      <td>3.02</td>\n",
       "      <td>0</td>\n",
       "      <td>0</td>\n",
       "      <td>0</td>\n",
       "      <td>91.7</td>\n",
       "      <td></td>\n",
       "    </tr>\n",
       "    <tr>\n",
       "      <th>2</th>\n",
       "      <td>2047 W Thomas St, Chicago IL</td>\n",
       "      <td>Wicker Park</td>\n",
       "      <td>Multi-Family Home</td>\n",
       "      <td>620000</td>\n",
       "      <td>4.0</td>\n",
       "      <td>2.09</td>\n",
       "      <td>9</td>\n",
       "      <td>3.84</td>\n",
       "      <td>94</td>\n",
       "      <td>3049</td>\n",
       "      <td>3492</td>\n",
       "      <td>36.2</td>\n",
       "      <td></td>\n",
       "    </tr>\n",
       "    <tr>\n",
       "      <th>3</th>\n",
       "      <td>1735 N Paulina St #314, Chicago IL</td>\n",
       "      <td>Wicker Park</td>\n",
       "      <td>Condo</td>\n",
       "      <td>318000</td>\n",
       "      <td>NaN</td>\n",
       "      <td>2.40</td>\n",
       "      <td>9</td>\n",
       "      <td>2.90</td>\n",
       "      <td>0</td>\n",
       "      <td>0</td>\n",
       "      <td>0</td>\n",
       "      <td>50.0</td>\n",
       "      <td></td>\n",
       "    </tr>\n",
       "    <tr>\n",
       "      <th>4</th>\n",
       "      <td>1634 W Beach Ave, Chicago IL</td>\n",
       "      <td>Wicker Park</td>\n",
       "      <td>Multi-Family Home</td>\n",
       "      <td>477000</td>\n",
       "      <td>2.0</td>\n",
       "      <td>4.63</td>\n",
       "      <td>9</td>\n",
       "      <td>2.96</td>\n",
       "      <td>31</td>\n",
       "      <td>2614</td>\n",
       "      <td>1840</td>\n",
       "      <td>78.9</td>\n",
       "      <td></td>\n",
       "    </tr>\n",
       "  </tbody>\n",
       "</table>\n",
       "</div>"
      ],
      "text/plain": [
       "                              Address Neighborhood          HouseType   Price  \\\n",
       "0   2111 W Division St #5, Chicago IL  Wicker Park              Condo  390000   \n",
       "1     1520 W Walton St #2, Chicago IL  Wicker Park              Condo  320500   \n",
       "2        2047 W Thomas St, Chicago IL  Wicker Park  Multi-Family Home  620000   \n",
       "3  1735 N Paulina St #314, Chicago IL  Wicker Park              Condo  318000   \n",
       "4        1634 W Beach Ave, Chicago IL  Wicker Park  Multi-Family Home  477000   \n",
       "\n",
       "   Bath  CrimeIndex  MinutesToLoop  MilesToLake  Age  LotSizeSqft  \\\n",
       "0   NaN        2.59              9         3.91    0            0   \n",
       "1   NaN        4.10              7         3.02    0            0   \n",
       "2   4.0        2.09              9         3.84   94         3049   \n",
       "3   NaN        2.40              9         2.90    0            0   \n",
       "4   2.0        4.63              9         2.96   31         2614   \n",
       "\n",
       "   HouseSizeSqft  SchoolIndex Leavitt  \n",
       "0              0         36.2          \n",
       "1              0         91.7          \n",
       "2           3492         36.2          \n",
       "3              0         50.0          \n",
       "4           1840         78.9          "
      ]
     },
     "execution_count": 58,
     "metadata": {},
     "output_type": "execute_result"
    }
   ],
   "source": [
    "house['Leavitt'] [house['Address'].str.contains(\"Leavitt\")] = 1\n",
    "house.head()"
   ]
  },
  {
   "cell_type": "code",
   "execution_count": 63,
   "metadata": {
    "collapsed": false
   },
   "outputs": [
    {
     "name": "stdout",
     "output_type": "stream",
     "text": [
      "(5, 13)\n"
     ]
    },
    {
     "data": {
      "text/html": [
       "<div>\n",
       "<table border=\"1\" class=\"dataframe\">\n",
       "  <thead>\n",
       "    <tr style=\"text-align: right;\">\n",
       "      <th></th>\n",
       "      <th>Address</th>\n",
       "      <th>Neighborhood</th>\n",
       "      <th>HouseType</th>\n",
       "      <th>Price</th>\n",
       "      <th>Bath</th>\n",
       "      <th>CrimeIndex</th>\n",
       "      <th>MinutesToLoop</th>\n",
       "      <th>MilesToLake</th>\n",
       "      <th>Age</th>\n",
       "      <th>LotSizeSqft</th>\n",
       "      <th>HouseSizeSqft</th>\n",
       "      <th>SchoolIndex</th>\n",
       "      <th>Leavitt</th>\n",
       "    </tr>\n",
       "  </thead>\n",
       "  <tbody>\n",
       "    <tr>\n",
       "      <th>53</th>\n",
       "      <td>1507 N Leavitt St, Chicago IL</td>\n",
       "      <td>Wicker Park</td>\n",
       "      <td>Single-Family Home</td>\n",
       "      <td>245000</td>\n",
       "      <td>1.0</td>\n",
       "      <td>3.51</td>\n",
       "      <td>10</td>\n",
       "      <td>3.86</td>\n",
       "      <td>121</td>\n",
       "      <td>3485</td>\n",
       "      <td>861</td>\n",
       "      <td>93.9</td>\n",
       "      <td>1</td>\n",
       "    </tr>\n",
       "    <tr>\n",
       "      <th>68</th>\n",
       "      <td>1431 N Leavitt St #1, Chicago IL</td>\n",
       "      <td>Wicker Park</td>\n",
       "      <td>Condo</td>\n",
       "      <td>300000</td>\n",
       "      <td>NaN</td>\n",
       "      <td>4.26</td>\n",
       "      <td>11</td>\n",
       "      <td>3.90</td>\n",
       "      <td>0</td>\n",
       "      <td>0</td>\n",
       "      <td>0</td>\n",
       "      <td>16.7</td>\n",
       "      <td>1</td>\n",
       "    </tr>\n",
       "    <tr>\n",
       "      <th>104</th>\n",
       "      <td>1056 N Leavitt St #2F, Chicago IL</td>\n",
       "      <td>Wicker Park</td>\n",
       "      <td>Condo</td>\n",
       "      <td>303000</td>\n",
       "      <td>NaN</td>\n",
       "      <td>2.46</td>\n",
       "      <td>10</td>\n",
       "      <td>4.12</td>\n",
       "      <td>0</td>\n",
       "      <td>0</td>\n",
       "      <td>0</td>\n",
       "      <td>36.2</td>\n",
       "      <td>1</td>\n",
       "    </tr>\n",
       "    <tr>\n",
       "      <th>117</th>\n",
       "      <td>1427 N Leavitt St #2, Chicago IL</td>\n",
       "      <td>Wicker Park</td>\n",
       "      <td>Condo</td>\n",
       "      <td>320000</td>\n",
       "      <td>NaN</td>\n",
       "      <td>4.26</td>\n",
       "      <td>11</td>\n",
       "      <td>3.90</td>\n",
       "      <td>0</td>\n",
       "      <td>0</td>\n",
       "      <td>0</td>\n",
       "      <td>16.7</td>\n",
       "      <td>1</td>\n",
       "    </tr>\n",
       "    <tr>\n",
       "      <th>200</th>\n",
       "      <td>1338 N Leavitt St, Chicago IL</td>\n",
       "      <td>Wicker Park</td>\n",
       "      <td>Single-Family Home</td>\n",
       "      <td>322000</td>\n",
       "      <td>1.0</td>\n",
       "      <td>3.76</td>\n",
       "      <td>10</td>\n",
       "      <td>3.97</td>\n",
       "      <td>126</td>\n",
       "      <td>3049</td>\n",
       "      <td>1260</td>\n",
       "      <td>16.7</td>\n",
       "      <td>1</td>\n",
       "    </tr>\n",
       "  </tbody>\n",
       "</table>\n",
       "</div>"
      ],
      "text/plain": [
       "                               Address Neighborhood           HouseType  \\\n",
       "53       1507 N Leavitt St, Chicago IL  Wicker Park  Single-Family Home   \n",
       "68    1431 N Leavitt St #1, Chicago IL  Wicker Park               Condo   \n",
       "104  1056 N Leavitt St #2F, Chicago IL  Wicker Park               Condo   \n",
       "117   1427 N Leavitt St #2, Chicago IL  Wicker Park               Condo   \n",
       "200      1338 N Leavitt St, Chicago IL  Wicker Park  Single-Family Home   \n",
       "\n",
       "      Price  Bath  CrimeIndex  MinutesToLoop  MilesToLake  Age  LotSizeSqft  \\\n",
       "53   245000   1.0        3.51             10         3.86  121         3485   \n",
       "68   300000   NaN        4.26             11         3.90    0            0   \n",
       "104  303000   NaN        2.46             10         4.12    0            0   \n",
       "117  320000   NaN        4.26             11         3.90    0            0   \n",
       "200  322000   1.0        3.76             10         3.97  126         3049   \n",
       "\n",
       "     HouseSizeSqft  SchoolIndex Leavitt  \n",
       "53             861         93.9       1  \n",
       "68               0         16.7       1  \n",
       "104              0         36.2       1  \n",
       "117              0         16.7       1  \n",
       "200           1260         16.7       1  "
      ]
     },
     "execution_count": 63,
     "metadata": {},
     "output_type": "execute_result"
    }
   ],
   "source": [
    "house2 = house[house['Leavitt'] == 1]\n",
    "print(house2.shape)\n",
    "house2.head()"
   ]
  },
  {
   "cell_type": "code",
   "execution_count": 67,
   "metadata": {
    "collapsed": false
   },
   "outputs": [],
   "source": [
    "house2 = house2.fillna(0)"
   ]
  },
  {
   "cell_type": "code",
   "execution_count": 68,
   "metadata": {
    "collapsed": false
   },
   "outputs": [
    {
     "data": {
      "text/plain": [
       "array(['Single-Family Home', 'Condo'], dtype=object)"
      ]
     },
     "execution_count": 68,
     "metadata": {},
     "output_type": "execute_result"
    }
   ],
   "source": [
    "house2['HouseType'].unique()"
   ]
  },
  {
   "cell_type": "code",
   "execution_count": 70,
   "metadata": {
    "collapsed": true
   },
   "outputs": [],
   "source": [
    "house2['HouseType_num'] = house2['HouseType'].map({'Single-Family Home':1, 'Condo':2})\n",
    "del house2['HouseType']\n",
    "del house2['Neighborhood']\n",
    "del house2['Address']"
   ]
  },
  {
   "cell_type": "code",
   "execution_count": 85,
   "metadata": {
    "collapsed": false
   },
   "outputs": [
    {
     "data": {
      "text/plain": [
       "KNeighborsClassifier(algorithm='auto', leaf_size=30, metric='minkowski',\n",
       "           metric_params=None, n_jobs=1, n_neighbors=5, p=2,\n",
       "           weights='uniform')"
      ]
     },
     "execution_count": 85,
     "metadata": {},
     "output_type": "execute_result"
    }
   ],
   "source": [
    "y = house2['Price'].values\n",
    "X = house2.drop('Price', axis=1).values\n",
    "knn = KNeighborsClassifier(n_neighbors =5)\n",
    "knn.fit(X,y)\n"
   ]
  },
  {
   "cell_type": "code",
   "execution_count": 86,
   "metadata": {
    "collapsed": false
   },
   "outputs": [
    {
     "data": {
      "text/plain": [
       "Index([u'Price', u'Bath', u'CrimeIndex', u'MinutesToLoop', u'MilesToLake',\n",
       "       u'Age', u'LotSizeSqft', u'HouseSizeSqft', u'SchoolIndex', u'Leavitt',\n",
       "       u'HouseType_num'],\n",
       "      dtype='object')"
      ]
     },
     "execution_count": 86,
     "metadata": {},
     "output_type": "execute_result"
    }
   ],
   "source": [
    "house2.columns"
   ]
  },
  {
   "cell_type": "markdown",
   "metadata": {},
   "source": [
    "### Use the description provided, do the prediction\n",
    "\n",
    "What is the price of 1342 N Leavitt Street? It's located in Wicker Park, a single-family home with two baths. The home is a 10-minute drive from the loop at 3.96 miles to Lake Michigan. The local crime index is 3.76 and the local school index is 16.7. The house is 116 years old. The lot size is 3,049 sqft and the house size is 3,154 sqft."
   ]
  },
  {
   "cell_type": "code",
   "execution_count": 87,
   "metadata": {
    "collapsed": false
   },
   "outputs": [
    {
     "name": "stdout",
     "output_type": "stream",
     "text": [
      "Prediction: [245000]\n"
     ]
    }
   ],
   "source": [
    "X_new = (2, 3.76, 10, 3.96, 116,3049, 3154, 16.7, 1, 1)\n",
    "new_prediction = knn.predict(X_new)\n",
    "print(\"Prediction: {}\".format(new_prediction))"
   ]
  }
 ],
 "metadata": {
  "anaconda-cloud": {},
  "kernelspec": {
   "display_name": "Python 2",
   "language": "python",
   "name": "python2"
  },
  "language_info": {
   "codemirror_mode": {
    "name": "ipython",
    "version": 2
   },
   "file_extension": ".py",
   "mimetype": "text/x-python",
   "name": "python",
   "nbconvert_exporter": "python",
   "pygments_lexer": "ipython2",
   "version": "2.7.13"
  }
 },
 "nbformat": 4,
 "nbformat_minor": 0
}
